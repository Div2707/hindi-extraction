{
 "cells": [
  {
   "cell_type": "code",
   "execution_count": 1,
   "id": "1a3c5772",
   "metadata": {},
   "outputs": [],
   "source": [
    "##Q1 Given an integer array arr of size n, you need to sum the elements of arr.\n",
    "\n",
    "def sumElement(arr,n):\n",
    "    sum=0\n",
    "    for i in range(n):\n",
    "        sum +=arr[i]\n",
    "    return sum\n"
   ]
  },
  {
   "cell_type": "code",
   "execution_count": 2,
   "id": "5da1bdb0",
   "metadata": {},
   "outputs": [],
   "source": [
    "## Q2 You are given an array A of size N. You need to print elements of A in alternate order (starting from index 0).\n",
    "def printAl(arr,n):\n",
    "    for i in range(len(arr),2):\n",
    "        print(arr[i])"
   ]
  },
  {
   "cell_type": "code",
   "execution_count": 3,
   "id": "b1452e7f",
   "metadata": {},
   "outputs": [],
   "source": [
    "## Q3 You are given an array A of size N. You need to print elements of A in alternate order (starting from index 0).\n",
    "\n",
    "def printAl(arr,n):\n",
    "     for i in range(0, len(arr), 2):\n",
    "        print(arr[i], end=\" \")"
   ]
  },
  {
   "cell_type": "code",
   "execution_count": 4,
   "id": "d0210bd0",
   "metadata": {},
   "outputs": [
    {
     "name": "stdout",
     "output_type": "stream",
     "text": [
      "1\n",
      "2\n",
      "3\n",
      "4\n",
      "5\n"
     ]
    }
   ],
   "source": [
    "## Q4 Print numbers from 1 to N without the help of loops.\n",
    "class Solution:    \n",
    "    #Complete this function\n",
    "    def printNos(self,N):\n",
    "        if N>0:\n",
    "            self.printNos(N-1)\n",
    "            print(N, end =\" \")\n"
   ]
  },
  {
   "cell_type": "code",
   "execution_count": 5,
   "id": "48084265",
   "metadata": {},
   "outputs": [],
   "source": [
    "## Q5 Given a Integer array A[] of n elements. Your task is to complete the function PalinArray. Which will return 1 if all the elements of the Array are palindrome otherwise it will return 0.\n"
   ]
  },
  {
   "cell_type": "code",
   "execution_count": 7,
   "id": "925ced14",
   "metadata": {},
   "outputs": [
    {
     "name": "stdout",
     "output_type": "stream",
     "text": [
      "*\n",
      "*\n",
      "*\n",
      "*\n",
      "*\n",
      "*\n",
      "*\n",
      "*\n",
      "*\n",
      "*\n",
      "*\n",
      "*\n",
      "*\n",
      "*\n",
      "*\n",
      "*\n",
      "*\n",
      "*\n",
      "*\n",
      "*\n",
      "*\n",
      "*\n",
      "*\n",
      "*\n",
      "*\n",
      "*\n",
      "*\n",
      "*\n",
      "*\n",
      "*\n"
     ]
    }
   ],
   "source": [
    "## Q6\n",
    "n=4\n",
    "for i in range(n+1):\n",
    "        for j in range(i*i):\n",
    "            print(\"*\")\n",
    "            \n"
   ]
  },
  {
   "cell_type": "code",
   "execution_count": 8,
   "id": "73e05bf8",
   "metadata": {},
   "outputs": [
    {
     "name": "stdout",
     "output_type": "stream",
     "text": [
      "2 2 \n",
      "1 \n"
     ]
    }
   ],
   "source": [
    "def print_pattern(N):\n",
    "    for i in range(N, 0, -1):\n",
    "        print((str(i) + ' ') * i)\n",
    "\n",
    "N = 2\n",
    "print_pattern(N)\n"
   ]
  },
  {
   "cell_type": "code",
   "execution_count": 9,
   "id": "1ab33dad",
   "metadata": {},
   "outputs": [
    {
     "ename": "IndentationError",
     "evalue": "unexpected indent (1367754284.py, line 14)",
     "output_type": "error",
     "traceback": [
      "\u001b[1;36m  Cell \u001b[1;32mIn[9], line 14\u001b[1;36m\u001b[0m\n\u001b[1;33m    count = 0\u001b[0m\n\u001b[1;37m    ^\u001b[0m\n\u001b[1;31mIndentationError\u001b[0m\u001b[1;31m:\u001b[0m unexpected indent\n"
     ]
    }
   ],
   "source": [
    "## Q7 Given a number N. Count the number of digits in N which evenly divides N.\n",
    "\n",
    "##Note :- Evenly divides means whether N is divisible by a digit i.e. leaves a remainder 0 when divided.\n",
    " \n",
    "\n",
    "##Example 1:\n",
    "\n",
    "##Input:\n",
    "##N = 12\n",
    "##Output:\n",
    "##2\n",
    "##Explanation:\n",
    "##1, 2 both divide 12 evenly\n",
    "         count = 0\n",
    "        for i in str(N):\n",
    "            d = int(i)\n",
    "            if d != 0 and N % d == 0:\n",
    "                count += 1\n",
    "        return count"
   ]
  },
  {
   "cell_type": "markdown",
   "id": "3193d8e2",
   "metadata": {},
   "source": [
    "Given an array arr[] of N integers, calculate the median\n",
    " \n",
    "\n",
    "Example 1:\n",
    "\n",
    "Input: N = 5\n",
    "arr[] = 90 100 78 89 67\n",
    "Output: 89\n",
    "Explanation: After sorting the array \n",
    "middle element is the median \n",
    "\n",
    "class Solution:\n",
    "\tdef find_median(self, v):\n",
    "\t\t# Code here\n",
    "\t\timport Numpy as np\n",
    "\t\tmedian = np.median(v)  # Calculate the median\n",
    "\n",
    "        return median"
   ]
  }
 ],
 "metadata": {
  "kernelspec": {
   "display_name": "Python 3 (ipykernel)",
   "language": "python",
   "name": "python3"
  },
  "language_info": {
   "codemirror_mode": {
    "name": "ipython",
    "version": 3
   },
   "file_extension": ".py",
   "mimetype": "text/x-python",
   "name": "python",
   "nbconvert_exporter": "python",
   "pygments_lexer": "ipython3",
   "version": "3.11.2"
  }
 },
 "nbformat": 4,
 "nbformat_minor": 5
}
